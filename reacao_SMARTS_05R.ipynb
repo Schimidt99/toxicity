{
  "cells": [
    {
      "cell_type": "markdown",
      "metadata": {
        "id": "PS3G3EWn_7Oq"
      },
      "source": [
        "# Reação de oxidação via fotolise com OH*"
      ]
    },
    {
      "cell_type": "code",
      "execution_count": null,
      "metadata": {
        "id": "UzyktM8i_rZW"
      },
      "outputs": [],
      "source": [
        "# Install RDKit.\n",
        "%%capture\n",
        "!pip install rdkit-pypi"
      ]
    },
    {
      "cell_type": "code",
      "execution_count": null,
      "metadata": {
        "colab": {
          "base_uri": "https://localhost:8080/"
        },
        "id": "dCerKBokAO90",
        "outputId": "262e78c7-d83f-46d6-f81c-e557e13011af"
      },
      "outputs": [
        {
          "output_type": "stream",
          "name": "stdout",
          "text": [
            "2022.03.5\n"
          ]
        }
      ],
      "source": [
        "import rdkit\n",
        "from rdkit import Chem\n",
        "from rdkit.Chem import AllChem\n",
        "import os\n",
        "print(rdkit.__version__)"
      ]
    },
    {
      "cell_type": "markdown",
      "metadata": {
        "id": "DwGx6wyPAdKU"
      },
      "source": [
        "Reação construída no MarvinSketch 22.13\n",
        "\n",
        "arquivo 'degrada05.smarts'\n",
        "\n",
        "especifico para aneis aromaticos (somente lig. aromatica no anel)"
      ]
    },
    {
      "cell_type": "code",
      "execution_count": null,
      "metadata": {
        "id": "tzunREgfAOxE"
      },
      "outputs": [],
      "source": [
        "os.chdir(\"/content/\")\n",
        "\n",
        "file_name = 'xenobioticos1.txt'  # fazer o upload do arq TXT na pasta 'content' do Colab antes de tudo\n",
        "\n",
        "reacao = AllChem.ReactionFromSmarts('[#6:1]-[#8:2]-[c:3]1[c:4][c:5][c:6][c:7][c:8]1>>[#8:2]-[c:3]1-[c:8][c:7]-[c:6][c:5]-[c:4]1')\n",
        "\n",
        "with open(file_name, \"r\") as f:\n",
        "    smiles = []\n",
        "    for line in f:\n",
        "        smiles.append(line.split('\\n')[0])\n",
        "        m = Chem.MolFromSmiles(line)\n",
        "        ps = reacao.RunReactants((m,))\n",
        "        #print(ps)\n",
        "        if len(ps) > 0:\n",
        "         with open('saida.txt', 'a') as g:\n",
        "           try:\n",
        "              Chem.SanitizeMol(ps[0][0])\n",
        "           except ValueError:\n",
        "              g.write('\\n')\n",
        "           else:\n",
        "              g.write(Chem.MolToSmiles(ps[0][0]))\n",
        "              g.write('\\n')\n",
        "\n",
        ""
      ]
    },
    {
      "cell_type": "markdown",
      "source": [
        "aneis aromaticos repetem as mesmas respostas de produtos"
      ],
      "metadata": {
        "id": "gG7ozMcUFTz6"
      }
    }
  ],
  "metadata": {
    "colab": {
      "provenance": [],
      "authorship_tag": "ABX9TyPu8q2mB9Pic8it7pxLtYbd"
    },
    "kernelspec": {
      "display_name": "Python 3",
      "name": "python3"
    },
    "language_info": {
      "name": "python"
    }
  },
  "nbformat": 4,
  "nbformat_minor": 0
}