{
  "nbformat": 4,
  "nbformat_minor": 0,
  "metadata": {
    "colab": {
      "provenance": [],
      "authorship_tag": "ABX9TyOiCIKqNf4SMcvLY7WWD0z2"
    },
    "kernelspec": {
      "name": "python3",
      "display_name": "Python 3"
    },
    "language_info": {
      "name": "python"
    }
  },
  "cells": [
    {
      "cell_type": "markdown",
      "source": [
        "# Teste com reações quimicas utilizando SMARTS\n"
      ],
      "metadata": {
        "id": "IF_idEcjyXLV"
      }
    },
    {
      "cell_type": "code",
      "execution_count": null,
      "metadata": {
        "id": "luwDYdQzyT1d"
      },
      "outputs": [],
      "source": [
        "# Install RDKit.\n",
        "%%capture\n",
        "!pip install rdkit-pypi"
      ]
    },
    {
      "cell_type": "code",
      "source": [
        "import rdkit\n",
        "from rdkit import Chem\n",
        "from rdkit.Chem import Draw\n",
        "from rdkit.Chem.Draw import IPythonConsole  #faz aparecer o desenho\n",
        "from rdkit.Chem import Descriptors\n",
        "from rdkit.Chem import AllChem\n",
        "from rdkit import DataStructs\n",
        "import numpy as np\n",
        "# for flattening tuples and lists\n",
        "from itertools import chain\n",
        "print(rdkit.__version__)"
      ],
      "metadata": {
        "colab": {
          "base_uri": "https://localhost:8080/"
        },
        "id": "BD2Y9cJCyaTr",
        "outputId": "0a194fe9-8847-4d31-d57d-b4f2e6c0091f"
      },
      "execution_count": null,
      "outputs": [
        {
          "output_type": "stream",
          "name": "stdout",
          "text": [
            "2022.03.5\n"
          ]
        }
      ]
    },
    {
      "cell_type": "code",
      "source": [
        "ethanol = Chem.MolFromSmiles('CCO')\n",
        "isopropanol = Chem.MolFromSmiles('CC(C)O')\n",
        "phenol = Chem.MolFromSmiles('c1cccc(O)c1')\n",
        "t_butanol = Chem.MolFromSmiles('C(C)(C)(C)O')\n",
        "glycerol = Chem.MolFromSmiles('OCC(O)CO')\n",
        "\n",
        "alcohols = [ethanol, isopropanol, phenol, t_butanol, glycerol]"
      ],
      "metadata": {
        "id": "Y769mrm9JlJy"
      },
      "execution_count": null,
      "outputs": []
    },
    {
      "cell_type": "code",
      "source": [
        "# helper functions to avoid typing the same thing over and over\n",
        "def to_smiles(mol_tuple):\n",
        "    return tuple(Chem.MolToSmiles(mol) for mol in mol_tuple)\n",
        "\n",
        "def from_smiles(smiles_tuple):\n",
        "    return tuple(Chem.MolFromSmiles(smiles) for smiles in smiles_tuple)"
      ],
      "metadata": {
        "id": "ECG_K5sMKDa9"
      },
      "execution_count": null,
      "outputs": []
    },
    {
      "cell_type": "code",
      "source": [
        "water_elimination_smarts = '[C!H0:1][C:2][O:3]>>[C:1]=[C:2].[O:3]'\n",
        "water_elimination = AllChem.ReactionFromSmarts(water_elimination_smarts)\n",
        "\n",
        "# do the reaction on every alcohol in our set\n",
        "all_products_tuples = [water_elimination.RunReactants((mol, )) for mol in alcohols]\n",
        "all_products = chain.from_iterable(all_products_tuples)\n",
        "\n",
        "# convert to smiles and back to keep only unique products\n",
        "all_products_smiles = [to_smiles(mol_tuple) for mol_tuple in all_products]\n",
        "all_products_unique = [from_smiles(smiles_tuple) for smiles_tuple in set(all_products_smiles)]\n",
        "nProductSets = len(all_products_unique)\n",
        "print(\"Number of unique product sets:\",nProductSets)\n",
        "\n",
        "# draw each product set on its own line\n",
        "prod_tpl = tuple(chain(*all_products_unique))\n",
        "Draw.MolsToGridImage(prod_tpl,molsPerRow=water_elimination.GetNumProductTemplates())"
      ],
      "metadata": {
        "colab": {
          "base_uri": "https://localhost:8080/",
          "height": 1000
        },
        "id": "zp7Of1XdKJ7l",
        "outputId": "df1daf33-4ed6-42d9-f35b-b2e970ecdbd4"
      },
      "execution_count": null,
      "outputs": [
        {
          "output_type": "stream",
          "name": "stdout",
          "text": [
            "Number of unique product sets: 5\n"
          ]
        },
        {
          "output_type": "execute_result",
          "data": {
            "image/png": "[encoded data removed]",
            "text/plain": [
              "<IPython.core.display.Image object>"
            ]
          },
          "metadata": {},
          "execution_count": 5
        }
      ]
    },
    {
      "cell_type": "markdown",
      "source": [
        "Como esperado, cada reação produz dois compostos, um dos quais é a água. Como antes, o glicerol dá origem a dois produtos únicos. O fenol não reage porque não corresponde à nossa regra de reação, que especifica carbonos alifáticos. Ao contrário da reação de oxidação, o t-butanol reage, pois agora corresponde à regra da reação, formando isobutileno.\n"
      ],
      "metadata": {
        "id": "KcWfeYuKK4gV"
      }
    },
    {
      "cell_type": "code",
      "source": [
        "rxn_1 = AllChem.ReactionFromSmarts('[#6:1][O:2]>>[#6:1]=[O:2]')"
      ],
      "metadata": {
        "id": "CAZraVESGgFB"
      },
      "execution_count": null,
      "outputs": []
    },
    {
      "cell_type": "code",
      "source": [
        "rxn_1.RunReactants((isopropanol, ))"
      ],
      "metadata": {
        "colab": {
          "base_uri": "https://localhost:8080/"
        },
        "id": "VdluAtdLGnIv",
        "outputId": "6cf18eb0-b7f0-4e6b-a09a-80b3e8cdfe9f"
      },
      "execution_count": null,
      "outputs": [
        {
          "output_type": "execute_result",
          "data": {
            "text/plain": [
              "((<rdkit.Chem.rdchem.Mol at 0x7f9ca9a8e2d0>,),)"
            ]
          },
          "metadata": {},
          "execution_count": 7
        }
      ]
    },
    {
      "cell_type": "code",
      "source": [
        "rxn_1.RunReactants((isopropanol, ))[0][0]"
      ],
      "metadata": {
        "colab": {
          "base_uri": "https://localhost:8080/",
          "height": 167
        },
        "id": "2a6LDV1LGpdP",
        "outputId": "4621d319-ac75-47a7-ad18-c0e55af6bc88"
      },
      "execution_count": null,
      "outputs": [
        {
          "output_type": "execute_result",
          "data": {
            "text/plain": [
              "<rdkit.Chem.rdchem.Mol at 0x7f9ca9a8e6f0>"
            ],
            "image/png": "[encoded data removed]"
          },
          "metadata": {},
          "execution_count": 8
        }
      ]
    },
    {
      "cell_type": "code",
      "source": [
        "rxn_1.RunReactants((t_butanol, ))[0][0]"
      ],
      "metadata": {
        "colab": {
          "base_uri": "https://localhost:8080/",
          "height": 167
        },
        "id": "8Cyh7gjHGz3I",
        "outputId": "d459f2a8-368e-4fef-cee3-d255d874f7bd"
      },
      "execution_count": null,
      "outputs": [
        {
          "output_type": "execute_result",
          "data": {
            "text/plain": [
              "<rdkit.Chem.rdchem.Mol at 0x7f9ca9a8ec30>"
            ],
            "image/png": "[encoded data removed]"
          },
          "metadata": {},
          "execution_count": 9
        }
      ]
    },
    {
      "cell_type": "code",
      "source": [
        "p = rxn_1.RunReactants((isopropanol, ))[0][0]\n",
        "Chem.SanitizeMol(p)"
      ],
      "metadata": {
        "colab": {
          "base_uri": "https://localhost:8080/"
        },
        "id": "9Ud4_ZH-HEPH",
        "outputId": "327f3fef-bc9e-4d10-b22e-54ffdaba6c74"
      },
      "execution_count": null,
      "outputs": [
        {
          "output_type": "execute_result",
          "data": {
            "text/plain": [
              "rdkit.Chem.rdmolops.SanitizeFlags.SANITIZE_NONE"
            ]
          },
          "metadata": {},
          "execution_count": 10
        }
      ]
    },
    {
      "cell_type": "code",
      "source": [
        "p = rxn_1.RunReactants((t_butanol, ))[0][0]\n",
        "\n",
        "try:\n",
        "    Chem.SanitizeMol(p)\n",
        "except ValueError:\n",
        "    print('Sanitization FAILED!')"
      ],
      "metadata": {
        "colab": {
          "base_uri": "https://localhost:8080/"
        },
        "id": "-ejkuF6nHDpi",
        "outputId": "972027db-412c-41c4-a61a-9723dfe6b363"
      },
      "execution_count": null,
      "outputs": [
        {
          "output_type": "stream",
          "name": "stdout",
          "text": [
            "Sanitization FAILED!\n"
          ]
        }
      ]
    },
    {
      "cell_type": "code",
      "source": [
        "gp = list(chain.from_iterable(rxn_1.RunReactants((glycerol, ))))\n",
        "[Chem.SanitizeMol(mol) for mol in gp]"
      ],
      "metadata": {
        "colab": {
          "base_uri": "https://localhost:8080/"
        },
        "id": "P5dC7I3q7l7W",
        "outputId": "aed7c185-2acb-4709-f5d2-382bdc3bc1e8"
      },
      "execution_count": null,
      "outputs": [
        {
          "output_type": "execute_result",
          "data": {
            "text/plain": [
              "[rdkit.Chem.rdmolops.SanitizeFlags.SANITIZE_NONE,\n",
              " rdkit.Chem.rdmolops.SanitizeFlags.SANITIZE_NONE,\n",
              " rdkit.Chem.rdmolops.SanitizeFlags.SANITIZE_NONE]"
            ]
          },
          "metadata": {},
          "execution_count": 14
        }
      ]
    },
    {
      "cell_type": "code",
      "source": [
        "Draw.MolsToGridImage(gp)"
      ],
      "metadata": {
        "id": "yO11rCz3HDl_",
        "colab": {
          "base_uri": "https://localhost:8080/",
          "height": 217
        },
        "outputId": "59bb7595-3674-41c3-c85b-2e7959976871"
      },
      "execution_count": null,
      "outputs": [
        {
          "output_type": "execute_result",
          "data": {
            "image/png": "[encoded data removed]",
            "text/plain": [
              "<IPython.core.display.Image object>"
            ]
          },
          "metadata": {},
          "execution_count": 17
        }
      ]
    },
    {
      "cell_type": "code",
      "source": [
        "if gp[1] == gp[2]:\n",
        "  flag = True\n",
        "else:\n",
        "  flag = False\n",
        "\n",
        "\n",
        "print(flag)"
      ],
      "metadata": {
        "colab": {
          "base_uri": "https://localhost:8080/"
        },
        "id": "iRaUS_KV8H8-",
        "outputId": "67433adc-186c-4f7e-897b-60d6ab5ff48e"
      },
      "execution_count": null,
      "outputs": [
        {
          "output_type": "stream",
          "name": "stdout",
          "text": [
            "False\n"
          ]
        }
      ]
    }
  ]
}