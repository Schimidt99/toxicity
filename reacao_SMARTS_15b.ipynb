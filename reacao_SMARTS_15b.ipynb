{
  "nbformat": 4,
  "nbformat_minor": 0,
  "metadata": {
    "colab": {
      "provenance": [],
      "authorship_tag": "ABX9TyO7Li3vSsYYfs6NRwXd9Sol"
    },
    "kernelspec": {
      "name": "python3",
      "display_name": "Python 3"
    },
    "language_info": {
      "name": "python"
    }
  },
  "cells": [
    {
      "cell_type": "markdown",
      "source": [
        "Reação construída no MarvinSketch 22.13\n",
        "\n",
        "*arquivo 'degrada15.smarts'*\n",
        "\n",
        "\n"
      ],
      "metadata": {
        "id": "qQ6H-NDnDl2X"
      }
    },
    {
      "cell_type": "code",
      "execution_count": null,
      "metadata": {
        "id": "2pwN4ZCjDUUK"
      },
      "outputs": [],
      "source": [
        "# Install RDKit.\n",
        "%%capture\n",
        "!pip install rdkit-pypi"
      ]
    },
    {
      "cell_type": "code",
      "source": [
        "import rdkit\n",
        "from rdkit import Chem\n",
        "from rdkit.Chem import AllChem\n",
        "import os\n",
        "print(rdkit.__version__)"
      ],
      "metadata": {
        "colab": {
          "base_uri": "https://localhost:8080/"
        },
        "id": "eyclBXc9DxQ9",
        "outputId": "50a7da4b-d0c1-4f95-8ff8-7ca65dc978c0"
      },
      "execution_count": null,
      "outputs": [
        {
          "output_type": "stream",
          "name": "stdout",
          "text": [
            "2022.09.5\n"
          ]
        }
      ]
    },
    {
      "cell_type": "code",
      "source": [
        "os.chdir(\"/content/\")\n",
        "\n",
        "file_name = 'clorados.txt'  # fazer o upload do arq TXT na pasta 'content' do Colab antes de tudo\n",
        "\n",
        "reacao = AllChem.ReactionFromSmarts('[#6:1]\\[#6:2](-[#8:3])=[#6:4](\\[#6:5])Cl>>[#6:1]\\[#6:2](-[#8:3])=[#6:4](\\[#6:5])-[#8]')\n",
        "\n",
        "with open(file_name, \"r\") as f:\n",
        "    smiles = []\n",
        "    for line in f:\n",
        "        smiles.append(line.split('\\n')[0])\n",
        "        m = Chem.MolFromSmiles(line)\n",
        "        ps = reacao.RunReactants((m,))\n",
        "        #print(ps)\n",
        "        if len(ps) > 0:\n",
        "         with open('saida.txt', 'a') as g:\n",
        "           try:\n",
        "               Chem.SanitizeMol(ps[0][0])  #verificando a \"existencia\" da molecula\n",
        "           except ValueError:\n",
        "               g.write('')\n",
        "           else:\n",
        "               g.write(Chem.MolToSmiles(ps[0][0]))\n",
        "               g.write('\\n')\n",
        "               if len(ps) > 1:\n",
        "                 with open('saida.txt', 'a') as g:\n",
        "                   try:\n",
        "                       Chem.SanitizeMol(ps[1][0])\n",
        "                   except ValueError:\n",
        "                      g.write('')\n",
        "                   else:\n",
        "                      g.write(Chem.MolToSmiles(ps[1][0]))\n",
        "                      g.write('\\n')\n",
        "                      if len(ps) > 3:\n",
        "                        with open('saida.txt', 'a') as g:\n",
        "                          try:\n",
        "                             Chem.SanitizeMol(ps[0][1])\n",
        "                          except ValueError:\n",
        "                              g.write('')\n",
        "                          else:\n",
        "                              g.write(Chem.MolToSmiles(ps[0][1]))\n",
        "                              g.write('\\n')"
      ],
      "metadata": {
        "id": "ooVkNyPbDxNT"
      },
      "execution_count": null,
      "outputs": []
    }
  ]
}