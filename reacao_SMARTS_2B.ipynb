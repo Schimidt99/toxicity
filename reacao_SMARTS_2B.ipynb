{
  "cells": [
    {
      "cell_type": "markdown",
      "metadata": {
        "id": "PS3G3EWn_7Oq"
      },
      "source": [
        "# Reação de oxidação via fotolise com OH*"
      ]
    },
    {
      "cell_type": "code",
      "execution_count": null,
      "metadata": {
        "id": "UzyktM8i_rZW"
      },
      "outputs": [],
      "source": [
        "# Install RDKit.\n",
        "%%capture\n",
        "!pip install rdkit-pypi"
      ]
    },
    {
      "cell_type": "code",
      "execution_count": null,
      "metadata": {
        "colab": {
          "base_uri": "https://localhost:8080/"
        },
        "id": "dCerKBokAO90",
        "outputId": "261a4d93-e9b0-49fc-c560-91405dca78ee"
      },
      "outputs": [
        {
          "output_type": "stream",
          "name": "stdout",
          "text": [
            "2022.03.5\n"
          ]
        }
      ],
      "source": [
        "import rdkit\n",
        "from rdkit import Chem\n",
        "from rdkit.Chem import AllChem\n",
        "import os\n",
        "print(rdkit.__version__)"
      ]
    },
    {
      "cell_type": "markdown",
      "metadata": {
        "id": "DwGx6wyPAdKU"
      },
      "source": [
        "Reação construída no MarvinSketch 22.13\n",
        "\n",
        "arquivo 'degrada02.smarts'"
      ]
    },
    {
      "cell_type": "code",
      "execution_count": null,
      "metadata": {
        "id": "tzunREgfAOxE"
      },
      "outputs": [],
      "source": [
        "os.chdir(\"/content/\")\n",
        "\n",
        "file_name = 'xenobioticos1.txt'  # fazer o upload do arq TXT na pasta 'content' do Colab antes de tudo\n",
        "\n",
        "reacao = AllChem.ReactionFromSmarts('[#6:1][#6:2](=,:[#6:3])-[O]>>[#6:1]-[#6:2](-[#6:3])=O')\n",
        "\n",
        "with open(file_name, \"r\") as f:\n",
        "    smiles = []\n",
        "    for line in f:\n",
        "        smiles.append(line.split('\\n')[0])\n",
        "        m = Chem.MolFromSmiles(line)\n",
        "        ps = reacao.RunReactants((m,))\n",
        "        if len(ps) > 0:\n",
        "         with open('saida.txt', 'a') as g:\n",
        "           try:\n",
        "              Chem.SanitizeMol(ps[0][0])  #verificando a \"existencia\" da molecula\n",
        "           except ValueError:\n",
        "              g.write('')\n",
        "           else:\n",
        "              g.write(Chem.MolToSmiles(ps[0][0]))\n",
        "              g.write('\\n')\n",
        "              if len(ps) > 1:\n",
        "                with open('saida.txt', 'a') as g:\n",
        "                  try:\n",
        "                      Chem.SanitizeMol(ps[1][0])\n",
        "                  except ValueError:\n",
        "                      g.write('')\n",
        "                  else:\n",
        "                      g.write(Chem.MolToSmiles(ps[1][0]))\n",
        "                      g.write('\\n')\n",
        ""
      ]
    }
  ],
  "metadata": {
    "colab": {
      "provenance": [],
      "authorship_tag": "ABX9TyM07ihtEt8kJsDKxzdU9Vme"
    },
    "kernelspec": {
      "display_name": "Python 3",
      "name": "python3"
    },
    "language_info": {
      "name": "python"
    }
  },
  "nbformat": 4,
  "nbformat_minor": 0
}