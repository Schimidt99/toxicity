{
  "nbformat": 4,
  "nbformat_minor": 0,
  "metadata": {
    "colab": {
      "provenance": [],
      "authorship_tag": "ABX9TyMgfWNOeUCwybKbX16sOp+j"
    },
    "kernelspec": {
      "name": "python3",
      "display_name": "Python 3"
    },
    "language_info": {
      "name": "python"
    }
  },
  "cells": [
    {
      "cell_type": "markdown",
      "source": [
        "Reação construída no MarvinSketch 22.13\n",
        "\n",
        "arquivo 'degrada06.smarts'"
      ],
      "metadata": {
        "id": "-nYtCB2G_agd"
      }
    },
    {
      "cell_type": "code",
      "execution_count": null,
      "metadata": {
        "id": "wcTQI4I8_S2o"
      },
      "outputs": [],
      "source": [
        "# Install RDKit.\n",
        "%%capture\n",
        "!pip install rdkit-pypi"
      ]
    },
    {
      "cell_type": "code",
      "source": [
        "import rdkit\n",
        "from rdkit import Chem\n",
        "from rdkit.Chem import AllChem\n",
        "import os\n",
        "print(rdkit.__version__)"
      ],
      "metadata": {
        "colab": {
          "base_uri": "https://localhost:8080/"
        },
        "id": "AHaOF_kM_ovE",
        "outputId": "705dae53-2979-484b-af2e-da6103f67a7b"
      },
      "execution_count": null,
      "outputs": [
        {
          "output_type": "stream",
          "name": "stdout",
          "text": [
            "2022.09.1\n"
          ]
        }
      ]
    },
    {
      "cell_type": "code",
      "source": [
        "os.chdir(\"/content/\")\n",
        "\n",
        "file_name = 'xenobioticos1.txt'  # fazer o upload do arq TXT na pasta 'content' do Colab antes de tudo\n",
        "\n",
        "reacao = AllChem.ReactionFromSmarts('[#6:1]-[#6:2]-[#6:3]-[#6:4]-[#6:5]>>[#6:6]-[#6:7](=[O:8])-[#6:9]-[#6:5]-[#8:10].[#8:11]-[#6:1]-[#6:2]-[#6:3]-[#6:4]=[O:12]')\n",
        "\n",
        "with open(file_name, \"r\") as f:\n",
        "    smiles = []\n",
        "    for line in f:\n",
        "        smiles.append(line.split('\\n')[0])\n",
        "        m = Chem.MolFromSmiles(line)\n",
        "        ps = reacao.RunReactants((m,))\n",
        "        #print(ps)\n",
        "        if len(ps) > 0:\n",
        "         with open('saida.txt', 'a') as g:\n",
        "           try:\n",
        "               Chem.SanitizeMol(ps[0][0])  #verificando a \"existencia\" da molecula\n",
        "           except ValueError:\n",
        "               g.write('')\n",
        "           else:\n",
        "               g.write(Chem.MolToSmiles(ps[0][0]))\n",
        "               g.write('\\n')\n",
        "               if len(ps) > 1:\n",
        "                 with open('saida.txt', 'a') as g:\n",
        "                   try:\n",
        "                       Chem.SanitizeMol(ps[1][0])\n",
        "                   except ValueError:\n",
        "                      g.write('')\n",
        "                   else:\n",
        "                      g.write(Chem.MolToSmiles(ps[1][0]))\n",
        "                      g.write('\\n')\n",
        "                      if len(ps) > 3:\n",
        "                        with open('saida.txt', 'a') as g:\n",
        "                          try:\n",
        "                             Chem.SanitizeMol(ps[0][1])\n",
        "                          except ValueError:\n",
        "                              g.write('')\n",
        "                          else:\n",
        "                              g.write(Chem.MolToSmiles(ps[0][1]))\n",
        "                              g.write('\\n')\n",
        "\n",
        "\n",
        ""
      ],
      "metadata": {
        "id": "Scs5MKhi_olk"
      },
      "execution_count": null,
      "outputs": []
    }
  ]
}