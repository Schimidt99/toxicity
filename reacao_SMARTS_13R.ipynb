{
  "nbformat": 4,
  "nbformat_minor": 0,
  "metadata": {
    "colab": {
      "provenance": [],
      "authorship_tag": "ABX9TyPnvdFG3/hAybbe7OBBaOz2"
    },
    "kernelspec": {
      "name": "python3",
      "display_name": "Python 3"
    },
    "language_info": {
      "name": "python"
    }
  },
  "cells": [
    {
      "cell_type": "markdown",
      "source": [
        "Reação construída no MarvinSketch 22.13\n",
        "\n",
        "arquivo 'degrada13.smarts'"
      ],
      "metadata": {
        "id": "qQ6H-NDnDl2X"
      }
    },
    {
      "cell_type": "code",
      "execution_count": null,
      "metadata": {
        "id": "2pwN4ZCjDUUK"
      },
      "outputs": [],
      "source": [
        "# Install RDKit.\n",
        "%%capture\n",
        "!pip install rdkit-pypi"
      ]
    },
    {
      "cell_type": "code",
      "source": [
        "import rdkit\n",
        "from rdkit import Chem\n",
        "from rdkit.Chem import AllChem\n",
        "import os\n",
        "print(rdkit.__version__)"
      ],
      "metadata": {
        "colab": {
          "base_uri": "https://localhost:8080/"
        },
        "id": "eyclBXc9DxQ9",
        "outputId": "6f22aa35-fde8-446b-d11c-01d2499aed2c"
      },
      "execution_count": null,
      "outputs": [
        {
          "output_type": "stream",
          "name": "stdout",
          "text": [
            "2022.03.5\n"
          ]
        }
      ]
    },
    {
      "cell_type": "code",
      "source": [
        "os.chdir(\"/content/\")\n",
        "\n",
        "file_name = 'xenobioticos1.txt'  # fazer o upload do arq TXT na pasta 'content' do Colab antes de tudo\n",
        "\n",
        "reacao = AllChem.ReactionFromSmarts('[#6:10]-[#6:9](=[O:11])-[#7:7]-[c:1]1[c:2][c:3][c:4](-[#8:5])[c:6][c:8]1>>[#8:5]-[c:4]1[c:3][c:2][c:1](-[#8:11])[c:8][c:6]1')\n",
        "\n",
        "with open(file_name, \"r\") as f:\n",
        "    smiles = []\n",
        "    for line in f:\n",
        "        smiles.append(line.split('\\n')[0])\n",
        "        m = Chem.MolFromSmiles(line)\n",
        "        ps = reacao.RunReactants((m,))\n",
        "        #print(ps)\n",
        "        if len(ps) > 0:\n",
        "         with open('saida.txt', 'a') as g:\n",
        "           try:\n",
        "               Chem.SanitizeMol(ps[0][0])  #verificando a \"existencia\" da molecula\n",
        "           except ValueError:\n",
        "               g.write('')\n",
        "           else:\n",
        "               g.write(Chem.MolToSmiles(ps[0][0]))\n",
        "               g.write('\\n')\n",
        "\n",
        "               # todos os ps[1][0] são copias!\n"
      ],
      "metadata": {
        "id": "ooVkNyPbDxNT"
      },
      "execution_count": null,
      "outputs": []
    }
  ]
}